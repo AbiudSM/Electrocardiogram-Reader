{
 "cells": [
  {
   "cell_type": "code",
   "execution_count": 1,
   "metadata": {},
   "outputs": [],
   "source": [
    "import ECG_CNN as cnn\n",
    "from config import *\n",
    "from tensorflow.python.keras.models import load_model"
   ]
  },
  {
   "cell_type": "code",
   "execution_count": 2,
   "metadata": {},
   "outputs": [
    {
     "name": "stdout",
     "output_type": "stream",
     "text": [
      "Loading Dataset from directory: database/Ondas\n",
      "Loading image from: 0-sano\n",
      "\n",
      "Loading image from: 1-onda-S\n",
      "\n",
      "Loading image from: 2-onda-T\n",
      "\n",
      "Loading image from: 3-onda-Q\n",
      "\n",
      "170 images uploaded\n",
      "170 vectors \n",
      "170 labels\n"
     ]
    }
   ],
   "source": [
    "cnn.load_dataset('database/Ondas')\n",
    "cnn.set_image_labels(cnn.labels_t,cnn.num_classes)"
   ]
  },
  {
   "cell_type": "code",
   "execution_count": 3,
   "metadata": {},
   "outputs": [
    {
     "name": "stdout",
     "output_type": "stream",
     "text": [
      "5/5 [==============================] - 0s 5ms/step - loss: 0.0208 - accuracy: 1.0000\n"
     ]
    },
    {
     "data": {
      "text/plain": [
       "[0.02076779678463936, 1.0]"
      ]
     },
     "execution_count": 3,
     "metadata": {},
     "output_type": "execute_result"
    }
   ],
   "source": [
    "model = load_model(MODEL_PATH)\n",
    "score = model.evaluate(cnn.X_train,cnn.y_train)\n",
    "score"
   ]
  }
 ],
 "metadata": {
  "kernelspec": {
   "display_name": "Python 3.7.2 64-bit",
   "language": "python",
   "name": "python3"
  },
  "language_info": {
   "codemirror_mode": {
    "name": "ipython",
    "version": 3
   },
   "file_extension": ".py",
   "mimetype": "text/x-python",
   "name": "python",
   "nbconvert_exporter": "python",
   "pygments_lexer": "ipython3",
   "version": "3.7.2"
  },
  "orig_nbformat": 4,
  "vscode": {
   "interpreter": {
    "hash": "7bb141e3b847024b7b54245578bbcc73934d1a987e16dd0af3269c2a8ff79f3a"
   }
  }
 },
 "nbformat": 4,
 "nbformat_minor": 2
}
